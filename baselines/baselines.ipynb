{
 "cells": [
  {
   "cell_type": "markdown",
   "metadata": {},
   "source": [
    "# Baselines & Filtering"
   ]
  },
  {
   "cell_type": "code",
   "execution_count": null,
   "metadata": {},
   "outputs": [],
   "source": [
    "from overcast.datasets import JASMIN\n",
    "\n",
    "import pandas as pd\n",
    "import numpy as np\n",
    "from scipy import stats\n",
    "\n",
    "from pathlib import Path\n",
    "\n",
    "import seaborn as sns\n",
    "import matplotlib.pyplot as plt\n",
    "\n",
    "from sklearn.pipeline import make_pipeline\n",
    "from sklearn.linear_model import BayesianRidge, RidgeCV\n",
    "from sklearn.preprocessing import PolynomialFeatures, StandardScaler\n",
    "from sklearn.neural_network import MLPRegressor"
   ]
  },
  {
   "cell_type": "code",
   "execution_count": null,
   "metadata": {},
   "outputs": [],
   "source": [
    "project_dir = Path(\"MR-MLforACI\")\n",
    "data_dir = project_dir / \"data\""
   ]
  },
  {
   "cell_type": "code",
   "execution_count": null,
   "metadata": {},
   "outputs": [],
   "source": [
    "def make_ds(dataset, covariates, treatment, outcomes, target_keys):\n",
    "    ds_train = JASMIN(\n",
    "        data_dir=data_dir,\n",
    "        dataset=dataset,\n",
    "        split='train',\n",
    "        x_vars=covariates,\n",
    "        t_var=treatment,\n",
    "        y_vars=outcomes,\n",
    "        t_bins=1,\n",
    "    )\n",
    "    ds_valid = JASMIN(\n",
    "        data_dir=data_dir,\n",
    "        dataset=dataset,\n",
    "        split='valid',\n",
    "        x_vars=covariates,\n",
    "        t_var=treatment,\n",
    "        y_vars=outcomes,\n",
    "        t_bins=1,\n",
    "    )\n",
    "    ds_test = JASMIN(\n",
    "        data_dir=data_dir,\n",
    "        dataset=dataset,\n",
    "        split='test',\n",
    "        x_vars=covariates,\n",
    "        t_var=treatment,\n",
    "        y_vars=outcomes,\n",
    "        t_bins=1,\n",
    "    )\n",
    "    ds = {\n",
    "        \"test\": ds_test,\n",
    "        \"valid\": ds_valid,\n",
    "        \"train\": ds_train,\n",
    "        \"TARGET_KEYS\": target_keys,\n",
    "    }\n",
    "    return ds"
   ]
  },
  {
   "cell_type": "code",
   "execution_count": null,
   "metadata": {},
   "outputs": [],
   "source": [
    "def make_xy(ds):\n",
    "    \"\"\"\n",
    "    Combine train and validation\n",
    "    Combine data & treatment\n",
    "    \"\"\"\n",
    "    x_train = np.concatenate((ds['train'].data, ds['train'].treatments), axis=1)\n",
    "    x_valid = np.concatenate((ds['valid'].data, ds['valid'].treatments), axis=1)\n",
    "\n",
    "    x_train_valid = np.concatenate((x_train, x_valid), axis=0)\n",
    "    y_train_valid = np.concatenate((ds['train'].targets, ds['valid'].targets), axis=0)\n",
    "\n",
    "    x_test = np.concatenate((ds['test'].data, ds['test'].treatments), axis=1)\n",
    "    y_test = ds['test'].targets\n",
    "\n",
    "    return x_train_valid, y_train_valid, x_test, y_test"
   ]
  },
  {
   "cell_type": "code",
   "execution_count": null,
   "metadata": {},
   "outputs": [],
   "source": [
    "def make_model_from_name(name):\n",
    "    polyridge_degree = 2\n",
    "    if name == 'ridge':\n",
    "        model = make_pipeline(StandardScaler(), RidgeCV())\n",
    "    elif name == 'bayridge':\n",
    "        model = make_pipeline(StandardScaler(), BayesianRidge())\n",
    "    elif name == 'polyridge2':\n",
    "        model = make_pipeline(StandardScaler(), PolynomialFeatures(2), RidgeCV())\n",
    "    elif name == 'polyridge3':\n",
    "        model = make_pipeline(StandardScaler(), PolynomialFeatures(3), RidgeCV())\n",
    "    elif name == 'mlp1':\n",
    "        model = make_pipeline(\n",
    "            StandardScaler(),\n",
    "            MLPRegressor(\n",
    "                hidden_layer_sizes=(100, ), \n",
    "                activation=\"relu\", \n",
    "                solver=\"adam\",\n",
    "                early_stopping=True, \n",
    "                validation_fraction=0.1,\n",
    "            )\n",
    "        )\n",
    "    return model"
   ]
  },
  {
   "cell_type": "code",
   "execution_count": null,
   "metadata": {},
   "outputs": [],
   "source": [
    "def predict_outcomes(model, ds):\n",
    "    (x_train_valid, y_train_valid, x_test, y_test) = make_xy(ds)\n",
    "    observed_outcomes = ds['test'].targets_xfm.inverse_transform(y_test)\n",
    "    predicted_outcomes = np.zeros(shape=observed_outcomes.shape)\n",
    "    for idx_outcome in range(len(ds['TARGET_KEYS'])):\n",
    "        model.fit(x_train_valid, y_train_valid[:, idx_outcome])\n",
    "        predicted_outcomes[:, idx_outcome] = model.predict(x_test)\n",
    "    predicted_outcomes = ds['test'].targets_xfm.inverse_transform(predicted_outcomes)\n",
    "    return predicted_outcomes, observed_outcomes"
   ]
  },
  {
   "cell_type": "code",
   "execution_count": null,
   "metadata": {},
   "outputs": [],
   "source": [
    "def scatter_plot(TARGET_KEYS, predicted_outcomes, observed_outcomes, color, savepath=None):\n",
    "    fig, axs = plt.subplots(1, len(TARGET_KEYS), figsize=(len(TARGET_KEYS)*6, 6))\n",
    "    for idx_outcome in range(len(TARGET_KEYS)):\n",
    "        qs = np.quantile(observed_outcomes[:, idx_outcome], [0.01, 0.99])\n",
    "        domain = np.arange(qs[0], qs[1], 0.01)\n",
    "        slope, intercept, r, p, stderr = stats.linregress(\n",
    "            observed_outcomes[:, idx_outcome], predicted_outcomes[:, idx_outcome]\n",
    "        )\n",
    "        _ = axs[idx_outcome].scatter(\n",
    "            x=observed_outcomes[:, idx_outcome],\n",
    "            y=predicted_outcomes[:, idx_outcome],\n",
    "            s=0.01,\n",
    "            c=color,\n",
    "        )\n",
    "        _ = axs[idx_outcome].plot(domain, domain, c=\"C2\")\n",
    "        _ = axs[idx_outcome].plot(domain, domain * slope + intercept, c=color, label=f\"$r^2$={r**2:.03f}\")\n",
    "        _ = axs[idx_outcome].set_xlim(qs)\n",
    "        _ = axs[idx_outcome].set_ylim(qs)\n",
    "        _ = axs[idx_outcome].set_xlabel(f\"{TARGET_KEYS[idx_outcome]} true\")\n",
    "        _ = axs[idx_outcome].set_ylabel(f\"{TARGET_KEYS[idx_outcome]} predicted\")\n",
    "        _ = axs[idx_outcome].legend(loc=\"upper left\")\n",
    "    if savepath is not None:\n",
    "        plt.savefig(f'{savepath}.png', format=\"png\", bbox_inches='tight')"
   ]
  },
  {
   "cell_type": "code",
   "execution_count": null,
   "metadata": {},
   "outputs": [],
   "source": [
    "PLOT_PRECISION = 32\n",
    "\n",
    "def apo_curves(ds, predicted_outcomes, savepath=None):\n",
    "    TARGET_KEYS = ds['TARGET_KEYS']\n",
    "    treatments = np.concatenate(ds['train'].treatments, axis=0)\n",
    "    treatments = ds['train'].treatments_xfm.inverse_transform(treatments)\n",
    "    treatments = np.quantile(\n",
    "        treatments,\n",
    "        q=np.arange(0, 1 + 1 / PLOT_PRECISION, 1 / PLOT_PRECISION),\n",
    "    )[:-1]\n",
    "    predicted_outcomes_ = np.quantile(\n",
    "        predicted_outcomes,\n",
    "        q=np.arange(0, 1 + 1 / PLOT_PRECISION, 1 / PLOT_PRECISION),\n",
    "        axis=0,\n",
    "    )[:-1]\n",
    "    _, ax = plt.subplots(2, 2, figsize=(12, 12))\n",
    "    for idx_outcome in range(len(TARGET_KEYS)):\n",
    "        i, j = idx_outcome//2, idx_outcome%2\n",
    "        _ = sns.lineplot(x=treatments, y=predicted_outcomes_[:, idx_outcome], ax=ax[i][j])\n",
    "        _ = ax[i][j].set_xlabel(ds['train'].treatment_names[0][0])\n",
    "        _ = ax[i][j].set_ylabel(TARGET_KEYS[idx_outcome])\n",
    "    if savepath is not None:\n",
    "        plt.savefig(savepath)\n",
    "    plt.show()"
   ]
  },
  {
   "cell_type": "markdown",
   "metadata": {},
   "source": [
    "## Figures"
   ]
  },
  {
   "cell_type": "code",
   "execution_count": null,
   "metadata": {},
   "outputs": [],
   "source": [
    "experiments = [\n",
    "    # LRP, ridge polyridge & mlp1\n",
    "    ('ridge', 'four_outputs_liqcf_pacific', ['RH900', 'RH850', 'RH700', 'LTS', 'EIS', 'W500', 'SST'], 'AOD', ['re', 'COD', 'CWP', 'LPC'], {0: r'$r_e$', 1: r'$\\tau$', 2: 'CWP', 3: 'CF'}), \n",
    "    ('polyridge3', 'four_outputs_liqcf_pacific', ['RH900', 'RH850', 'RH700', 'LTS', 'EIS', 'W500', 'SST'], 'AOD', ['re', 'COD', 'CWP', 'LPC'], {0: r'$r_e$', 1: r'$\\tau$', 2: 'CWP', 3: 'CF'}),\n",
    "    ('mlp1', 'four_outputs_liqcf_pacific', ['RH900', 'RH850', 'RH700', 'LTS', 'EIS', 'W500', 'SST'], 'AOD', ['re', 'COD', 'CWP', 'LPC'], {0: r'$r_e$', 1: r'$\\tau$', 2: 'CWP', 3: 'CF'}),\n",
    "    # HRP treatments\n",
    "    ('polyridge3', 'MERRA_25kmres_2003_08', ['RH950', 'RH850', 'RH700', 'LTS', 'W500', 'SST'], 'AOD', ['Nd', 're', 'COD', 'CWP'], {0: r'$N_d$', 1: r'$r_e$', 2: r'$\\tau$', 3: 'CWP'}), \n",
    "    ('polyridge3', 'MERRA_25kmres_2003_08', ['RH950', 'RH850', 'RH700', 'LTS', 'W500', 'SST', 'AOD'], 'Nd', ['re', 'COD', 'CWP'], {0: r'$r_e$', 1: r'$\\tau$', 2: 'CWP'}), \n",
    "    ('polyridge3', 'MERRA_25kmres_2003_08', ['RH950', 'RH850', 'RH700', 'LTS', 'W500', 'SST', 'AOD', 'Nd'], 're', ['COD', 'CWP'], {0: r'$\\tau$', 1: 'CWP'}), \n",
    "    # LRP 2004\n",
    "    ('polyridge3', 'four_outputs_liqcf_pacific_2004', ['RH900', 'RH850', 'RH700', 'LTS', 'EIS', 'W500', 'SST'], 'AOD', ['re', 'COD', 'CWP', 'LPC'], {0: r'$r_e$', 1: r'$\\tau$', 2: 'CWP', 3: 'CF'}),\n",
    "    # # LRP & HRP same x and y\n",
    "    ('polyridge3', 'four_outputs_liqcf_pacific', ['RH850', 'RH700', 'LTS', 'W500', 'SST'], 'AOD', ['re', 'COD', 'CWP'], {0: r'$r_e$', 1: r'$\\tau$', 2: 'CWP'}),\n",
    "    ('polyridge3', 'MERRA_25kmres_2003', ['RH850', 'RH700', 'LTS', 'W500', 'SST'], 'AOD', ['re', 'COD', 'CWP'], {0: r'$r_e$', 1: r'$\\tau$', 2: 'CWP'}),\n",
    "    # HRP 2003\n",
    "    ('polyridge3', 'MERRA_25kmres_2003_08', ['RH950', 'RH850', 'RH700', 'LTS', 'W500', 'SST'], 'AOD', ['re', 'COD', 'CWP'], {0: r'$r_e$', 1: r'$\\tau$', 2: 'CWP'}), \n",
    "    ('polyridge3', 'MERRA_25kmres_2003', ['RH950', 'RH850', 'RH700', 'LTS', 'W500', 'SST'], 'AOD', ['re', 'COD', 'CWP'], {0: r'$r_e$', 1: r'$\\tau$', 2: 'CWP'}), \n",
    "]\n",
    "\n",
    "for experiment in experiments: \n",
    "    model_name, dataset, covariates, treatment, outcomes, target_keys = experiment\n",
    "    color = 'C0' if dataset == 'four_outputs_liqcf_pacific' else 'C1'\n",
    "    cov_str = '_'.join(covariates)\n",
    "    out_str = '_'.join(outcomes)\n",
    "    ds = make_ds(dataset, covariates, treatment, outcomes, target_keys)\n",
    "    model = make_model_from_name(model_name)\n",
    "    predicted_outcomes, observed_outcomes = predict_outcomes(model, ds)\n",
    "    print(f'Model: {model_name}, Dataset: {dataset}, X: {cov_str}, T: {treatment}, Y: {out_str}')\n",
    "    scatter_plot(\n",
    "        ds['TARGET_KEYS'],\n",
    "        predicted_outcomes,\n",
    "        observed_outcomes,\n",
    "        color,\n",
    "        savepath=f'{project_dir}/figures/baselines/{model_name}-{dataset}-{treatment}-{cov_str}-{out_str}-scatter'\n",
    "    )"
   ]
  },
  {
   "cell_type": "markdown",
   "metadata": {},
   "source": [
    "## Histograms"
   ]
  },
  {
   "cell_type": "code",
   "execution_count": null,
   "metadata": {},
   "outputs": [],
   "source": [
    "covariates = ['RH850', 'RH700', 'LTS', 'W500', 'SST']\n",
    "treatment = 'AOD'\n",
    "outcomes = ['re', 'COD', 'CWP']"
   ]
  },
  {
   "cell_type": "code",
   "execution_count": null,
   "metadata": {},
   "outputs": [],
   "source": [
    "aod = False\n",
    "re = False\n",
    "cwp = True\n",
    "prefix = str()\n",
    "if aod: prefix += 'aod_'\n",
    "if re: prefix += 're_'\n",
    "if cwp: prefix += 'cwp_'\n",
    "if not aod and not re and not cwp: prefix += 'no_'\n",
    "prefix += 'filter'"
   ]
  },
  {
   "cell_type": "code",
   "execution_count": null,
   "metadata": {},
   "outputs": [],
   "source": [
    "ds_hr_train = JASMIN(\n",
    "    data_dir=data_dir,\n",
    "    dataset='MERRA_25kmres_2003',\n",
    "    split='train',\n",
    "    x_vars=covariates,\n",
    "    t_var=treatment,\n",
    "    y_vars=outcomes,\n",
    "    filter_aod=aod, \n",
    "    filter_re=re, \n",
    "    filter_cwp=cwp,\n",
    "    t_bins=1,\n",
    ")\n",
    "\n",
    "ds_lr_train = JASMIN(\n",
    "    data_dir=data_dir,\n",
    "    dataset='four_outputs_liqcf_pacific',\n",
    "    split='train',\n",
    "    x_vars=covariates,\n",
    "    t_var=treatment,\n",
    "    y_vars=outcomes,\n",
    "    filter_aod=aod, \n",
    "    filter_re=re, \n",
    "    filter_cwp=cwp,\n",
    "    t_bins=1,\n",
    ")"
   ]
  },
  {
   "cell_type": "code",
   "execution_count": null,
   "metadata": {},
   "outputs": [],
   "source": [
    "hr_t = ds_hr_train.treatments_xfm.inverse_transform(ds_hr_train.treatments)\n",
    "lr_t = ds_lr_train.treatments_xfm.inverse_transform(ds_lr_train.treatments)\n",
    "\n",
    "qs = np.quantile(hr_t, [0.01, 0.99])\n",
    "bins = np.linspace(qs[0], qs[1], 100)\n",
    "\n",
    "plt.plot(figsize=(6, 6))\n",
    "plt.hist(lr_t, bins, density=True, alpha=0.5, label='Low Resolution')\n",
    "plt.hist(hr_t, bins, density=True, alpha=0.5, label='High Resolution')\n",
    "plt.xlabel('AOD')\n",
    "plt.ylabel('Frequency')\n",
    "plt.legend(loc='upper right')\n",
    "plt.savefig(f'{project_dir}/figures/filtering/{prefix}-aod-hist.png')"
   ]
  },
  {
   "cell_type": "code",
   "execution_count": null,
   "metadata": {},
   "outputs": [],
   "source": [
    "hr_y = ds_hr_train.targets_xfm.inverse_transform(ds_hr_train.targets)[:, 0]\n",
    "lr_y = ds_lr_train.targets_xfm.inverse_transform(ds_lr_train.targets)[:, 0]\n",
    "\n",
    "qs = np.quantile(hr_y, [0.01, 0.99])\n",
    "bins = np.linspace(qs[0], qs[1], 100)\n",
    "\n",
    "plt.plot(figsize=(6, 6))\n",
    "plt.hist(lr_y, bins, density=True, alpha=0.5, label='Low Resolution')\n",
    "plt.hist(hr_y, bins, density=True, alpha=0.5, label='High Resolution')\n",
    "plt.xlabel(r'$r_e$')\n",
    "plt.ylabel('Frequency')\n",
    "plt.legend(loc='upper right')\n",
    "plt.savefig(f'{project_dir}/figures/filtering/{prefix}-re-hist.png')"
   ]
  },
  {
   "cell_type": "code",
   "execution_count": null,
   "metadata": {},
   "outputs": [],
   "source": [
    "hr_y = ds_hr_train.targets_xfm.inverse_transform(ds_hr_train.targets)[:, 1]\n",
    "lr_y = ds_lr_train.targets_xfm.inverse_transform(ds_lr_train.targets)[:, 1]\n",
    "\n",
    "qs = np.quantile(hr_y, [0.01, 0.99])\n",
    "bins = np.linspace(qs[0], qs[1], 100)\n",
    "\n",
    "plt.plot(figsize=(6, 6))\n",
    "plt.hist(lr_y, bins, density=True, alpha=0.5, label='Low Resolution')\n",
    "plt.hist(hr_y, bins, density=True, alpha=0.5, label='High Resolution')\n",
    "plt.xlabel(r'$\\tau$')\n",
    "plt.ylabel('Frequency')\n",
    "plt.legend(loc='upper right')\n",
    "plt.savefig(f'{project_dir}/figures/filtering/{prefix}-tau-hist.png')"
   ]
  },
  {
   "cell_type": "code",
   "execution_count": null,
   "metadata": {},
   "outputs": [],
   "source": [
    "hr_t = ds_hr_train.targets_xfm.inverse_transform(ds_hr_train.targets)[:, 2]\n",
    "lr_t = ds_lr_train.targets_xfm.inverse_transform(ds_lr_train.targets)[:, 2]\n",
    "\n",
    "qs = np.quantile(hr_t, [0.01, 0.99])\n",
    "bins = np.linspace(qs[0], qs[1], 100)\n",
    "\n",
    "plt.plot(figsize=(6, 6))\n",
    "plt.hist(lr_t, bins, density=True, alpha=0.5, label='Low Resolution')\n",
    "plt.hist(hr_t, bins, density=True, alpha=0.5, label='High Resolution')\n",
    "plt.xlabel(r'$CWP$')\n",
    "plt.ylabel('Frequency')\n",
    "plt.legend(loc='upper right')\n",
    "plt.savefig(f'{project_dir}/figures/filtering/{prefix}-cwp-hist.png')"
   ]
  }
 ],
 "metadata": {
  "kernelspec": {
   "display_name": "Python 3.9.0 ('overcast')",
   "language": "python",
   "name": "python3"
  },
  "language_info": {
   "codemirror_mode": {
    "name": "ipython",
    "version": 3
   },
   "file_extension": ".py",
   "mimetype": "text/x-python",
   "name": "python",
   "nbconvert_exporter": "python",
   "pygments_lexer": "ipython3",
   "version": "3.9.12"
  },
  "orig_nbformat": 4,
  "vscode": {
   "interpreter": {
    "hash": "c1da42b996cff2d6e0dd5b53bfb8eb8e8da478a613ef2589a7cb7852cd9dd31a"
   }
  }
 },
 "nbformat": 4,
 "nbformat_minor": 2
}
